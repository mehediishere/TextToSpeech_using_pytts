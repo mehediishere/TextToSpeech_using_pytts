{
 "cells": [
  {
   "cell_type": "code",
   "execution_count": 1,
   "metadata": {},
   "outputs": [],
   "source": [
    "import pyttsx3\n",
    "import PyPDF2"
   ]
  },
  {
   "cell_type": "code",
   "execution_count": 3,
   "metadata": {},
   "outputs": [],
   "source": [
    "book = open('agm.pdf', 'rb')\n",
    "pdfReader = PyPDF2.PdfFileReader(book)\n",
    "pages = pdfReader.numPages\n",
    "\n",
    "speaker = pyttsx3.init()\n",
    "\n",
    "#\"\"\"VOICE\"\"\"\n",
    "voices = speaker.getProperty('voices')\n",
    "#speaker.setProperty('voice', voices[0].id) #male\n",
    "speaker.setProperty('voice', voices[1].id) #female\n",
    "\n",
    "# \"\"\"VOLUME\"\"\"\n",
    "volume = speaker.getProperty('volume')   #getting to know current volume level (min=0 and max=1)\n",
    "speaker.setProperty('volume',0.5)    # setting up volume level  between 0 and 1\n",
    "# print(volume)                          #printing current volume level\n",
    "\n",
    "# \"\"\" RATE\"\"\"\n",
    "rate = speaker.getProperty('rate')   # getting details of current speaking rate\n",
    "speaker.setProperty('rate', 125)     # setting up new voice rate\n",
    "# print(rate)                        #printing current voice rate\n",
    "\n",
    "for num in range(0, 1):\n",
    "    page = pdfReader.getPage(num)\n",
    "    text = page.extractText()\n",
    "    speaker.say(text)\n",
    "    speaker.runAndWait()"
   ]
  },
  {
   "cell_type": "code",
   "execution_count": 3,
   "metadata": {},
   "outputs": [],
   "source": [
    "# \"\"\"Saving Voice to a file\"\"\"\n",
    "speaker.save_to_file(text, 'test.mp3')\n",
    "speaker.runAndWait()"
   ]
  }
 ],
 "metadata": {
  "kernelspec": {
   "display_name": "Python 3",
   "language": "python",
   "name": "python3"
  },
  "language_info": {
   "codemirror_mode": {
    "name": "ipython",
    "version": 3
   },
   "file_extension": ".py",
   "mimetype": "text/x-python",
   "name": "python",
   "nbconvert_exporter": "python",
   "pygments_lexer": "ipython3",
   "version": "3.8.5"
  }
 },
 "nbformat": 4,
 "nbformat_minor": 4
}
